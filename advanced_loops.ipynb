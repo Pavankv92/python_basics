{
 "cells": [
  {
   "cell_type": "markdown",
   "id": "ffdd13f3",
   "metadata": {},
   "source": [
    "### Advanced loops"
   ]
  },
  {
   "cell_type": "markdown",
   "id": "710e418d",
   "metadata": {},
   "source": [
    "* zip(first_list, second_list) -> (combined_ordered_list)"
   ]
  },
  {
   "cell_type": "code",
   "execution_count": 6,
   "id": "b23250fb",
   "metadata": {},
   "outputs": [
    {
     "name": "stdout",
     "output_type": "stream",
     "text": [
      "John Smith\n",
      "Jane Doe\n",
      "Doe Johnson\n",
      "Alice Brown\n",
      "Bob Davis\n"
     ]
    }
   ],
   "source": [
    "first_names = ['John', 'Jane', 'Doe', 'Alice', 'Bob']\n",
    "second_names = ['Smith', 'Doe', 'Johnson', 'Brown', 'Davis']\n",
    "\n",
    "for first, second in zip(first_names, second_names):\n",
    "    print(f\"{first} {second}\")"
   ]
  },
  {
   "cell_type": "markdown",
   "id": "0999f86d",
   "metadata": {},
   "source": [
    "* enumerate(list) -> [(index, list_element_at_index)]"
   ]
  },
  {
   "cell_type": "markdown",
   "id": "6012f213",
   "metadata": {},
   "source": []
  },
  {
   "cell_type": "code",
   "execution_count": 7,
   "id": "67d7f195",
   "metadata": {},
   "outputs": [
    {
     "name": "stdout",
     "output_type": "stream",
     "text": [
      "[(0, 'John'), (1, 'Jane'), (2, 'Doe'), (3, 'Alice'), (4, 'Bob')]\n"
     ]
    }
   ],
   "source": [
    "print(list(enumerate(first_names)))"
   ]
  },
  {
   "cell_type": "code",
   "execution_count": 8,
   "id": "9de46218",
   "metadata": {},
   "outputs": [
    {
     "name": "stdout",
     "output_type": "stream",
     "text": [
      "Index: 0, Name: John\n",
      "Index: 1, Name: Jane\n",
      "Index: 2, Name: Doe\n",
      "Index: 3, Name: Alice\n",
      "Index: 4, Name: Bob\n"
     ]
    }
   ],
   "source": [
    "for index, name in enumerate(first_names):\n",
    "    print(f\"Index: {index}, Name: {name}\")"
   ]
  },
  {
   "cell_type": "code",
   "execution_count": 9,
   "id": "74437f1a",
   "metadata": {},
   "outputs": [
    {
     "name": "stdout",
     "output_type": "stream",
     "text": [
      "Index: 0, Full Name: John Smith\n",
      "Index: 1, Full Name: Jane Doe\n",
      "Index: 2, Full Name: Doe Johnson\n",
      "Index: 3, Full Name: Alice Brown\n",
      "Index: 4, Full Name: Bob Davis\n"
     ]
    }
   ],
   "source": [
    "for index, (first, second) in enumerate(zip(first_names, second_names)):\n",
    "    print(f\"Index: {index}, Full Name: {first} {second}\")"
   ]
  }
 ],
 "metadata": {
  "kernelspec": {
   "display_name": "Python 3",
   "language": "python",
   "name": "python3"
  },
  "language_info": {
   "codemirror_mode": {
    "name": "ipython",
    "version": 3
   },
   "file_extension": ".py",
   "mimetype": "text/x-python",
   "name": "python",
   "nbconvert_exporter": "python",
   "pygments_lexer": "ipython3",
   "version": "3.11.10"
  }
 },
 "nbformat": 4,
 "nbformat_minor": 5
}
