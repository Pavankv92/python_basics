{
 "cells": [
  {
   "cell_type": "markdown",
   "id": "daf2e603",
   "metadata": {},
   "source": [
    "### Classes"
   ]
  },
  {
   "cell_type": "markdown",
   "id": "e34ad208",
   "metadata": {},
   "source": [
    "#### hasattr and setattr\n",
    "* check if the Robot class has an attribute 'battery_state'\n",
    "  * hasattr(object, 'attribute') -> bool\n",
    "  * hasattr(Robot, 'battery_state') -> bool\n",
    "* set the Robot class's attribute 'battery_state'\n",
    "  * setattr(object, 'attribute', value) --> create a attribute if object doesn't have it!!!--> but dont use it!!!\n",
    "  * setattr(Robot, 'battery_state', 100)"
   ]
  },
  {
   "cell_type": "markdown",
   "id": "8bb1d344",
   "metadata": {},
   "source": [
    "#### get all the attributes of a class"
   ]
  },
  {
   "cell_type": "markdown",
   "id": "3c9d716c",
   "metadata": {},
   "source": [
    "``vars(class_object)`` --> returns attributes of the object"
   ]
  },
  {
   "cell_type": "markdown",
   "id": "d44fe32b",
   "metadata": {},
   "source": [
    "### Multiple inheritance"
   ]
  },
  {
   "cell_type": "markdown",
   "id": "f3a2568f",
   "metadata": {},
   "source": [
    "* class.mro() --> prints the method resollution order of the class in case of a multiple inheritance case.\n",
    "* best practice for eanabling multiple inheritance in python\n",
    "  * each class's init method should add class attributes as a parameter and *args, **kwargs in the parameters and call ``super()__init__(*args, **kwargs)``\n",
    "  * ``class.__init__(class_attributes, *args, **kwargs)``\n",
    "         ``super().__init__(*args, **kwargs)``\n"
   ]
  },
  {
   "cell_type": "markdown",
   "id": "834a8339",
   "metadata": {},
   "source": [
    "### Tools"
   ]
  },
  {
   "cell_type": "markdown",
   "id": "03056c15",
   "metadata": {},
   "source": [
    "``help(class_name)`` --> prints usefull stuff obout the class"
   ]
  }
 ],
 "metadata": {
  "language_info": {
   "name": "python"
  }
 },
 "nbformat": 4,
 "nbformat_minor": 5
}
