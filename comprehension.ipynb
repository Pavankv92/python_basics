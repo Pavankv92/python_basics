{
 "cells": [
  {
   "cell_type": "markdown",
   "id": "59152446",
   "metadata": {},
   "source": [
    "### List comprehensions"
   ]
  },
  {
   "cell_type": "code",
   "execution_count": 27,
   "id": "f393d6af",
   "metadata": {},
   "outputs": [
    {
     "name": "stdout",
     "output_type": "stream",
     "text": [
      "[1, 2, 3, 4, 5, 6, 7, 8, 9, 10, 11, 12, 13, 14, 15, 16, 17, 18, 19, 20, 21, 22, 23, 24, 25, 26, 27, 28, 29, 30, 31, 32, 33, 34, 35, 36, 37, 38, 39, 40, 41, 42, 43, 44, 45, 46, 47, 48, 49, 50, 51, 52, 53, 54, 55, 56, 57, 58, 59, 60, 61, 62, 63, 64, 65, 66, 67, 68, 69, 70, 71, 72, 73, 74, 75, 76, 77, 78, 79, 80, 81, 82, 83, 84, 85, 86, 87, 88, 89, 90, 91, 92, 93, 94, 95, 96, 97, 98, 99]\n"
     ]
    }
   ],
   "source": [
    "my_list = [num for num in range(1, 100)]\n",
    "print(my_list)"
   ]
  },
  {
   "cell_type": "markdown",
   "id": "2b208ba1",
   "metadata": {},
   "source": [
    "### format\n",
    "  * for both if and else conditions : my_list = [variable conditions for_loop]\n",
    "  * only if condition : my_list = [variable condition for_loop] or [variable for_loop condition]"
   ]
  },
  {
   "cell_type": "markdown",
   "id": "34a5e1bb",
   "metadata": {},
   "source": [
    "### with if else"
   ]
  },
  {
   "cell_type": "code",
   "execution_count": 28,
   "id": "c67a4659",
   "metadata": {},
   "outputs": [
    {
     "name": "stdout",
     "output_type": "stream",
     "text": [
      "[0, 1, 2, 3, 4, 5, 6, 7, 8, 9, 0, 0, 0, 0, 0, 0, 0, 0, 0, 0, 0, 0, 0, 0, 0, 0, 0, 0, 0, 0, 0, 0, 0, 0, 0, 0, 0, 0, 0, 0, 0, 0, 0, 0, 0, 0, 0, 0, 0, 0, 0, 0, 0, 0, 0, 0, 0, 0, 0, 0, 0, 0, 0, 0, 0, 0, 0, 0, 0, 0, 0, 0, 0, 0, 0, 0, 0, 0, 0, 0, 0, 0, 0, 0, 0, 0, 0, 0, 0, 0, 0, 0, 0, 0, 0, 0, 0, 0, 0, 0]\n"
     ]
    }
   ],
   "source": [
    "# my_list = [num for num in range(0,100) if num <10 else 0 ] # This line will raise a SyntaxError because the else clause is not valid in this context.\n",
    "# my_list = [num for num in range(0,100) if num <10] # works fine, only includes numbers less than 10\n",
    "my_list = [num if num <10 else 0 for num in range(0,100)]\n",
    "print(my_list)\n"
   ]
  },
  {
   "cell_type": "markdown",
   "id": "f4c3351b",
   "metadata": {},
   "source": [
    "### with if no else"
   ]
  },
  {
   "cell_type": "code",
   "execution_count": 29,
   "id": "d8b5e47f",
   "metadata": {},
   "outputs": [
    {
     "name": "stdout",
     "output_type": "stream",
     "text": [
      "[('part2', 3.0)]\n"
     ]
    }
   ],
   "source": [
    "part_names = ['part1', 'part2', 'part3']\n",
    "part_prices = [10.99, 3.0, 8.75]\n",
    "inexpensive_parts = [(part, price) for part, price in zip(part_names, part_prices) if price < 5.0]\n",
    "print(inexpensive_parts)"
   ]
  },
  {
   "cell_type": "markdown",
   "id": "16d2571c",
   "metadata": {},
   "source": [
    "### combined list comprehension"
   ]
  },
  {
   "cell_type": "markdown",
   "id": "cec3639c",
   "metadata": {},
   "source": [
    "* combined_list = [[inner_list] outer_list]"
   ]
  },
  {
   "cell_type": "code",
   "execution_count": 30,
   "id": "d39e11c2",
   "metadata": {},
   "outputs": [
    {
     "name": "stdout",
     "output_type": "stream",
     "text": [
      "[0, 1, 2]\n",
      "[0, 1, 2]\n",
      "[0, 1, 2]\n",
      "[0, 1, 2]\n",
      "[0, 1, 2]\n"
     ]
    }
   ],
   "source": [
    "combined_list = [[x for x in range(3)] for y in range(5)]\n",
    "for row in combined_list:\n",
    "    print(row)"
   ]
  },
  {
   "cell_type": "code",
   "execution_count": 31,
   "id": "ebf5ca0b",
   "metadata": {},
   "outputs": [
    {
     "name": "stdout",
     "output_type": "stream",
     "text": [
      "[(0, 0), (1, 0), (2, 0)]\n",
      "[(0, 1), (1, 1), (2, 1)]\n",
      "[(0, 2), (1, 2), (2, 2)]\n",
      "[(0, 3), (1, 3), (2, 3)]\n",
      "[(0, 4), (1, 4), (2, 4)]\n"
     ]
    }
   ],
   "source": [
    "combined_list = [[(x,y) for x in range(3)] for y in range(5)] # x: increase along row, y: increase down column. like a matrix\n",
    "for row in combined_list:\n",
    "    print(row)"
   ]
  },
  {
   "cell_type": "code",
   "execution_count": 32,
   "id": "0f5f249a",
   "metadata": {},
   "outputs": [
    {
     "name": "stdout",
     "output_type": "stream",
     "text": [
      "['A1', 'A2', 'A3', 'A4', 'A5', 'A6', 'A7', 'A8']\n",
      "['B1', 'B2', 'B3', 'B4', 'B5', 'B6', 'B7', 'B8']\n",
      "['C1', 'C2', 'C3', 'C4', 'C5', 'C6', 'C7', 'C8']\n",
      "['D1', 'D2', 'D3', 'D4', 'D5', 'D6', 'D7', 'D8']\n",
      "['E1', 'E2', 'E3', 'E4', 'E5', 'E6', 'E7', 'E8']\n",
      "['F1', 'F2', 'F3', 'F4', 'F5', 'F6', 'F7', 'F8']\n",
      "['G1', 'G2', 'G3', 'G4', 'G5', 'G6', 'G7', 'G8']\n"
     ]
    }
   ],
   "source": [
    "chess_board = [[f'{letter}{x}' for x in range(1,9)] for letter in 'ABCDEFG'] # x: increase along row, y: increase down column. like a matrix\n",
    "for row in chess_board:\n",
    "    print(row)"
   ]
  },
  {
   "cell_type": "code",
   "execution_count": 33,
   "id": "9f291686",
   "metadata": {},
   "outputs": [
    {
     "name": "stdout",
     "output_type": "stream",
     "text": [
      "['G1', 'G2', 'G3', 'G4', 'G5', 'G6', 'G7', 'G8']\n",
      "['F1', 'F2', 'F3', 'F4', 'F5', 'F6', 'F7', 'F8']\n",
      "['E1', 'E2', 'E3', 'E4', 'E5', 'E6', 'E7', 'E8']\n",
      "['D1', 'D2', 'D3', 'D4', 'D5', 'D6', 'D7', 'D8']\n",
      "['C1', 'C2', 'C3', 'C4', 'C5', 'C6', 'C7', 'C8']\n",
      "['B1', 'B2', 'B3', 'B4', 'B5', 'B6', 'B7', 'B8']\n",
      "['A1', 'A2', 'A3', 'A4', 'A5', 'A6', 'A7', 'A8']\n"
     ]
    }
   ],
   "source": [
    "chess_board = [[f'{letter}{x}' for x in range(1,9)] for letter in 'ABCDEFG'[::-1]] # negative indexing to reverse the order of letters\n",
    "for row in chess_board:\n",
    "    print(row)"
   ]
  },
  {
   "cell_type": "code",
   "execution_count": 34,
   "id": "f3f1ecea",
   "metadata": {},
   "outputs": [
    {
     "name": "stdout",
     "output_type": "stream",
     "text": [
      "['G1', 'G2', 'G3', 'G4', 'G5', 'G6', 'G7', 'G8']\n",
      "['F1', 'F2', 'F3', 'F4', 'F5', 'F6', 'F7', 'F8']\n",
      "['E1', 'E2', 'E3', 'E4', 'E5', 'E6', 'E7', 'E8']\n",
      "['D1', 'D2', 'D3', 'D4', 'D5', 'D6', 'D7', 'D8']\n",
      "['C1', 'C2', 'C3', 'C4', 'C5', 'C6', 'C7', 'C8']\n",
      "['B1', 'B2', 'B3', 'B4', 'B5', 'B6', 'B7', 'B8']\n",
      "['A1', 'A2', 'A3', 'A4', 'A5', 'A6', 'A7', 'A8']\n"
     ]
    }
   ],
   "source": [
    "chess_board = [[f'{letter}{x}' for x in range(1,9)] for letter in reversed('ABCDEFG')] # use reversed() to reverse the order of letters\n",
    "for row in chess_board:\n",
    "    print(row)"
   ]
  },
  {
   "cell_type": "markdown",
   "id": "5b5fd655",
   "metadata": {},
   "source": [
    "### Dictionary comprehensions"
   ]
  },
  {
   "cell_type": "code",
   "execution_count": 35,
   "id": "3be93f3a",
   "metadata": {},
   "outputs": [
    {
     "name": "stdout",
     "output_type": "stream",
     "text": [
      "{0: 0, 1: 1, 2: 4, 3: 9, 4: 16, 5: 25, 6: 36, 7: 49, 8: 64, 9: 81}\n"
     ]
    }
   ],
   "source": [
    "dict_comp = {num:num**2 for num in range(10)}  # dictionary comprehension\n",
    "print(dict_comp)"
   ]
  },
  {
   "cell_type": "markdown",
   "id": "80d219b5",
   "metadata": {},
   "source": [
    "### Set comprehensions"
   ]
  },
  {
   "cell_type": "code",
   "execution_count": 37,
   "id": "aaf48ee9",
   "metadata": {},
   "outputs": [
    {
     "name": "stdout",
     "output_type": "stream",
     "text": [
      "{0, 1, 2, 3, 4, 5, 6, 7, 8, 9}\n"
     ]
    }
   ],
   "source": [
    "set_comp = {num for num in range(10)}  # set comprehension\n",
    "print(set_comp)"
   ]
  }
 ],
 "metadata": {
  "kernelspec": {
   "display_name": "Python 3",
   "language": "python",
   "name": "python3"
  },
  "language_info": {
   "codemirror_mode": {
    "name": "ipython",
    "version": 3
   },
   "file_extension": ".py",
   "mimetype": "text/x-python",
   "name": "python",
   "nbconvert_exporter": "python",
   "pygments_lexer": "ipython3",
   "version": "3.11.10"
  }
 },
 "nbformat": 4,
 "nbformat_minor": 5
}
