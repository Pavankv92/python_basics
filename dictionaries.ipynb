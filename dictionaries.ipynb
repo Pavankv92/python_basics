{
 "cells": [
  {
   "cell_type": "markdown",
   "id": "20c50cbc",
   "metadata": {},
   "source": [
    "### Dictionaries"
   ]
  },
  {
   "cell_type": "markdown",
   "id": "3f2feb26",
   "metadata": {},
   "source": [
    "* Uses {'key' : value}\n",
    "* holds any datatype\n",
    "* mutable!"
   ]
  },
  {
   "cell_type": "code",
   "execution_count": 9,
   "id": "fed7d5b8",
   "metadata": {},
   "outputs": [],
   "source": [
    "test_dict = {'a': 1, 'b': 2, 'c': 3, 'd': 4}"
   ]
  },
  {
   "cell_type": "code",
   "execution_count": 10,
   "id": "431a3592",
   "metadata": {},
   "outputs": [
    {
     "name": "stdout",
     "output_type": "stream",
     "text": [
      "dict_keys(['a', 'b', 'c', 'd'])\n"
     ]
    }
   ],
   "source": [
    "print(test_dict.keys())"
   ]
  },
  {
   "cell_type": "code",
   "execution_count": 11,
   "id": "c462ee5b",
   "metadata": {},
   "outputs": [
    {
     "name": "stdout",
     "output_type": "stream",
     "text": [
      "dict_values([1, 2, 3, 4])\n"
     ]
    }
   ],
   "source": [
    "print(test_dict.values())"
   ]
  },
  {
   "cell_type": "code",
   "execution_count": 12,
   "id": "d7c16f73",
   "metadata": {},
   "outputs": [
    {
     "name": "stdout",
     "output_type": "stream",
     "text": [
      "<class 'dict_values'>\n"
     ]
    }
   ],
   "source": [
    "print(type(test_dict.values()))"
   ]
  },
  {
   "cell_type": "code",
   "execution_count": 13,
   "id": "88bba401",
   "metadata": {},
   "outputs": [
    {
     "name": "stdout",
     "output_type": "stream",
     "text": [
      "dict_items([('a', 1), ('b', 2), ('c', 3), ('d', 4)])\n"
     ]
    }
   ],
   "source": [
    "print(test_dict.items())\n"
   ]
  },
  {
   "cell_type": "code",
   "execution_count": 14,
   "id": "1349a0f7",
   "metadata": {},
   "outputs": [
    {
     "name": "stdout",
     "output_type": "stream",
     "text": [
      "Key: a, Value: 1\n",
      "Key: b, Value: 2\n",
      "Key: c, Value: 3\n",
      "Key: d, Value: 4\n"
     ]
    }
   ],
   "source": [
    "for key, value in test_dict.items():\n",
    "    print(f\"Key: {key}, Value: {value}\")"
   ]
  },
  {
   "cell_type": "markdown",
   "id": "b436c9dc",
   "metadata": {},
   "source": [
    "### Indexing"
   ]
  },
  {
   "cell_type": "code",
   "execution_count": null,
   "id": "afba175a",
   "metadata": {},
   "outputs": [
    {
     "name": "stdout",
     "output_type": "stream",
     "text": [
      "1\n"
     ]
    },
    {
     "ename": "KeyError",
     "evalue": "'x'",
     "output_type": "error",
     "traceback": [
      "\u001b[31m---------------------------------------------------------------------------\u001b[39m",
      "\u001b[31mKeyError\u001b[39m                                  Traceback (most recent call last)",
      "\u001b[36mCell\u001b[39m\u001b[36m \u001b[39m\u001b[32mIn[16]\u001b[39m\u001b[32m, line 3\u001b[39m\n\u001b[32m      1\u001b[39m \u001b[38;5;66;03m### use get() instead of [] to avoid KeyError\u001b[39;00m\n\u001b[32m      2\u001b[39m \u001b[38;5;28mprint\u001b[39m(test_dict[\u001b[33m'\u001b[39m\u001b[33ma\u001b[39m\u001b[33m'\u001b[39m])  \u001b[38;5;66;03m# returns 1\u001b[39;00m\n\u001b[32m----> \u001b[39m\u001b[32m3\u001b[39m \u001b[38;5;28mprint\u001b[39m(\u001b[43mtest_dict\u001b[49m\u001b[43m[\u001b[49m\u001b[33;43m'\u001b[39;49m\u001b[33;43mx\u001b[39;49m\u001b[33;43m'\u001b[39;49m\u001b[43m]\u001b[49m)  \u001b[38;5;66;03m# throws a KeyError\u001b[39;00m\n\u001b[32m      4\u001b[39m \u001b[38;5;66;03m# better\u001b[39;00m\n\u001b[32m      5\u001b[39m \u001b[38;5;28mprint\u001b[39m(test_dict.get(\u001b[33m'\u001b[39m\u001b[33ma\u001b[39m\u001b[33m'\u001b[39m))  \u001b[38;5;66;03m# returns 1\u001b[39;00m\n",
      "\u001b[31mKeyError\u001b[39m: 'x'"
     ]
    }
   ],
   "source": [
    "### use get() instead of [] to avoid KeyError\n",
    "print(test_dict['a'])  # returns 1\n",
    "print(test_dict['x'])  # throws a KeyError"
   ]
  },
  {
   "cell_type": "code",
   "execution_count": 17,
   "id": "53757a7e",
   "metadata": {},
   "outputs": [
    {
     "name": "stdout",
     "output_type": "stream",
     "text": [
      "1\n",
      "None\n"
     ]
    }
   ],
   "source": [
    "# better\n",
    "print(test_dict.get('a'))  # returns 1\n",
    "print(test_dict.get('x'))  # returns None, no KeyError "
   ]
  }
 ],
 "metadata": {
  "kernelspec": {
   "display_name": "Python 3",
   "language": "python",
   "name": "python3"
  },
  "language_info": {
   "codemirror_mode": {
    "name": "ipython",
    "version": 3
   },
   "file_extension": ".py",
   "mimetype": "text/x-python",
   "name": "python",
   "nbconvert_exporter": "python",
   "pygments_lexer": "ipython3",
   "version": "3.11.10"
  }
 },
 "nbformat": 4,
 "nbformat_minor": 5
}
