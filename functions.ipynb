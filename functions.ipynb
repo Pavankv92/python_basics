{
 "cells": [
  {
   "cell_type": "markdown",
   "id": "7d0eed75",
   "metadata": {},
   "source": [
    "### Function parameters"
   ]
  },
  {
   "cell_type": "code",
   "execution_count": null,
   "id": "9061cb89",
   "metadata": {},
   "outputs": [
    {
     "name": "stdout",
     "output_type": "stream",
     "text": [
      "1\n",
      "(2, 3, 'hello', (4, 5), 12)\n",
      "12\n"
     ]
    }
   ],
   "source": [
    "def print_args(first, *arguments, last_arg): # unpacking\n",
    "    print(first)\n",
    "    print(arguments)\n",
    "    print(last_arg)\n",
    "\n",
    "print_all(1,2,3,'hello',(4,5),12, last_arg=12)"
   ]
  },
  {
   "cell_type": "code",
   "execution_count": null,
   "id": "74d9bdc3",
   "metadata": {},
   "outputs": [
    {
     "name": "stdout",
     "output_type": "stream",
     "text": [
      "{'a': 1, 'b': 2, 'c': 3, 'd': 4}\n"
     ]
    }
   ],
   "source": [
    "def print_kwargs(**arguments): # unpacking\n",
    "    print(arguments)\n",
    "    \n",
    "test_dict = {'a': 1, 'b': 2, 'c': 3, 'd': 4}\n",
    "print_dict(**test_dict)"
   ]
  },
  {
   "cell_type": "code",
   "execution_count": null,
   "id": "a4a4c772",
   "metadata": {},
   "outputs": [
    {
     "name": "stdout",
     "output_type": "stream",
     "text": [
      "{'a': '1', 'b': '2', 'c': '3', 'd': '4'}\n"
     ]
    }
   ],
   "source": [
    "print_dict(a= '1', b= '2', c= '3', d= '4') # regular kwargs"
   ]
  },
  {
   "cell_type": "code",
   "execution_count": 32,
   "id": "ffef5e54",
   "metadata": {},
   "outputs": [
    {
     "name": "stdout",
     "output_type": "stream",
     "text": [
      "(1, 2, 3, 'hello', (4, 5), 12)\n",
      "{'last_arg': 12, 'a': 1, 'b': 2, 'c': 3, 'd': 4}\n"
     ]
    }
   ],
   "source": [
    "def print_args_kwargs(*args, **kwargs): # unpacking\n",
    "    print(args)\n",
    "    print(kwargs)\n",
    "\n",
    "print_args_kwargs(1,2,3,'hello',(4,5),12, last_arg=12, **test_dict)"
   ]
  },
  {
   "cell_type": "markdown",
   "id": "cea0ab54",
   "metadata": {},
   "source": [
    "### Lambda functions"
   ]
  },
  {
   "cell_type": "markdown",
   "id": "9ebdd41d",
   "metadata": {},
   "source": [
    "* lambda parameter: expression"
   ]
  },
  {
   "cell_type": "code",
   "execution_count": 33,
   "id": "b04aff33",
   "metadata": {},
   "outputs": [
    {
     "data": {
      "text/plain": [
       "11"
      ]
     },
     "execution_count": 33,
     "metadata": {},
     "output_type": "execute_result"
    }
   ],
   "source": [
    "func = lambda x: x+1\n",
    "func(10)"
   ]
  },
  {
   "cell_type": "code",
   "execution_count": 35,
   "id": "e98b073b",
   "metadata": {},
   "outputs": [
    {
     "data": {
      "text/plain": [
       "11"
      ]
     },
     "execution_count": 35,
     "metadata": {},
     "output_type": "execute_result"
    }
   ],
   "source": [
    "add = lambda a,b: a+b\n",
    "\n",
    "add(5,6)"
   ]
  },
  {
   "cell_type": "code",
   "execution_count": 37,
   "id": "8ab8a909",
   "metadata": {},
   "outputs": [
    {
     "data": {
      "text/plain": [
       "'bye'"
      ]
     },
     "execution_count": 37,
     "metadata": {},
     "output_type": "execute_result"
    }
   ],
   "source": [
    "func = lambda x: 'hello' if x > 5 else 'bye'\n",
    "func(4)"
   ]
  },
  {
   "cell_type": "markdown",
   "id": "d206e170",
   "metadata": {},
   "source": [
    "### function documenting"
   ]
  },
  {
   "cell_type": "code",
   "execution_count": 49,
   "id": "a21f5eda",
   "metadata": {},
   "outputs": [
    {
     "name": "stdout",
     "output_type": "stream",
     "text": [
      "3\n"
     ]
    }
   ],
   "source": [
    "def test_func(a: int, b: int)  -> int:\n",
    "    \"\"\" A simple function to add two numbers\"\"\"\n",
    "    return a+b\n",
    "\n",
    "print(test_func(1,2))"
   ]
  },
  {
   "cell_type": "code",
   "execution_count": 50,
   "id": "abfcf34a",
   "metadata": {},
   "outputs": [
    {
     "name": "stdout",
     "output_type": "stream",
     "text": [
      " A simple function to add two numbers\n"
     ]
    }
   ],
   "source": [
    "print(test_func.__doc__)"
   ]
  },
  {
   "cell_type": "code",
   "execution_count": 51,
   "id": "f4a18bfc",
   "metadata": {},
   "outputs": [
    {
     "name": "stdout",
     "output_type": "stream",
     "text": [
      "Help on function test_func in module __main__:\n",
      "\n",
      "test_func(a: int, b: int) -> int\n",
      "    A simple function to add two numbers\n",
      "\n"
     ]
    }
   ],
   "source": [
    "help(test_func)"
   ]
  }
 ],
 "metadata": {
  "kernelspec": {
   "display_name": "Python 3",
   "language": "python",
   "name": "python3"
  },
  "language_info": {
   "codemirror_mode": {
    "name": "ipython",
    "version": 3
   },
   "file_extension": ".py",
   "mimetype": "text/x-python",
   "name": "python",
   "nbconvert_exporter": "python",
   "pygments_lexer": "ipython3",
   "version": "3.11.10"
  }
 },
 "nbformat": 4,
 "nbformat_minor": 5
}
