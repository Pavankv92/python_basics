{
 "cells": [
  {
   "cell_type": "markdown",
   "id": "4d754cf8",
   "metadata": {},
   "source": [
    "### list indexing\n",
    "  * [start: upto (not including)]\n",
    "  * [-1] = start indexing from the right side of the list\n",
    "  * [start: upto : step_size], \n",
    "    * -step_size : in the oppsosite direction\n",
    "  * for a list, positive direction is left to right ->, negative is right to left <-\n",
    "  * [: : step_size] = defualt:default:step_size in the positive direction\n",
    "  * [: : -step_size] = defualt:default:step_size in the negative direction\n",
    "  * [-start: stop: step_size] = moves in the -> direction\n",
    "  * [-start: stop: -step_size] = moves in the <- direction"
   ]
  },
  {
   "cell_type": "code",
   "execution_count": 11,
   "id": "85a3894f",
   "metadata": {},
   "outputs": [],
   "source": [
    "# ! pip3 install pytest\n",
    "import pytest"
   ]
  },
  {
   "cell_type": "code",
   "execution_count": 12,
   "id": "1df9b2a7",
   "metadata": {},
   "outputs": [],
   "source": [
    "dummy_list = [1,2,3,4,5,6,7,8,9,10]\n"
   ]
  },
  {
   "cell_type": "code",
   "execution_count": 13,
   "id": "93e0eced",
   "metadata": {},
   "outputs": [
    {
     "name": "stdout",
     "output_type": "stream",
     "text": [
      "[]\n"
     ]
    }
   ],
   "source": [
    "print(dummy_list[1:1])"
   ]
  },
  {
   "cell_type": "code",
   "execution_count": 14,
   "id": "14452449",
   "metadata": {},
   "outputs": [
    {
     "name": "stdout",
     "output_type": "stream",
     "text": [
      "9\n"
     ]
    }
   ],
   "source": [
    "print(dummy_list[-2])"
   ]
  },
  {
   "cell_type": "code",
   "execution_count": 15,
   "id": "f11f27f1",
   "metadata": {},
   "outputs": [],
   "source": [
    "assert dummy_list[-1] == dummy_list[9]"
   ]
  },
  {
   "cell_type": "code",
   "execution_count": 17,
   "id": "10af0e18",
   "metadata": {},
   "outputs": [
    {
     "name": "stdout",
     "output_type": "stream",
     "text": [
      "[1, 2, 3, 4]\n"
     ]
    }
   ],
   "source": [
    "print(dummy_list[0:4:1])"
   ]
  },
  {
   "cell_type": "code",
   "execution_count": 21,
   "id": "58f86245",
   "metadata": {},
   "outputs": [
    {
     "name": "stdout",
     "output_type": "stream",
     "text": [
      "[8, 7, 6, 5, 4, 3, 2, 1]\n"
     ]
    }
   ],
   "source": [
    "print(dummy_list[-3::-1])"
   ]
  },
  {
   "cell_type": "markdown",
   "id": "6a61b2df",
   "metadata": {},
   "source": [
    "### list looping"
   ]
  },
  {
   "cell_type": "code",
   "execution_count": 1,
   "id": "03b56787",
   "metadata": {},
   "outputs": [
    {
     "name": "stdout",
     "output_type": "stream",
     "text": [
      "John Smith\n",
      "Jane Doe\n",
      "Doe Johnson\n",
      "Alice Brown\n",
      "Bob Davis\n"
     ]
    }
   ],
   "source": [
    "first_names = ['John', 'Jane', 'Doe', 'Alice', 'Bob']\n",
    "second_names = ['Smith', 'Doe', 'Johnson', 'Brown', 'Davis']\n",
    "\n",
    "for first, second in zip(first_names, second_names):\n",
    "    print(f\"{first} {second}\")"
   ]
  },
  {
   "cell_type": "code",
   "execution_count": null,
   "id": "59874cb8",
   "metadata": {},
   "outputs": [],
   "source": []
  }
 ],
 "metadata": {
  "kernelspec": {
   "display_name": "Python 3",
   "language": "python",
   "name": "python3"
  },
  "language_info": {
   "codemirror_mode": {
    "name": "ipython",
    "version": 3
   },
   "file_extension": ".py",
   "mimetype": "text/x-python",
   "name": "python",
   "nbconvert_exporter": "python",
   "pygments_lexer": "ipython3",
   "version": "3.11.10"
  }
 },
 "nbformat": 4,
 "nbformat_minor": 5
}
