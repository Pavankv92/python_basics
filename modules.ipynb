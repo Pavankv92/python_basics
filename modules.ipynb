{
 "cells": [
  {
   "cell_type": "markdown",
   "id": "997e7649",
   "metadata": {},
   "source": [
    "### Modules\n"
   ]
  },
  {
   "cell_type": "markdown",
   "id": "a69abae3",
   "metadata": {},
   "source": [
    "### Custom modules\n",
    "\n",
    "- A module is a file with some python code. for example : my_module.py file has a class : MyClass, assume we import this class from the application.py file as from my_module import MyClass.\n",
    "- When python imports a module, it creates some internal variables automatically. ´**name**´ is one such variable.\n",
    "- For currently executed file (application.py), Python always sets ´**name**´ == ´**main**´\n",
    "- For any imported file (my_module.py), Python always sets ´**name**´ == ´**filename**´, for example : ´**name**´ == ´**my_module**´,\n",
    "- When we run application.py, python first runs import part of my_module.py first and then continues to execute code in application.py.\n",
    "- By adding print(´**name**´) to both files should clarify the order to execution.\n",
    "- All the code under ´**name**´ == ´**main**´ in my_module.py will be executed only if my_module.py file is executed as main file. It won't be executed when my_module.py is imported from another file.\n"
   ]
  },
  {
   "cell_type": "markdown",
   "id": "558226fb",
   "metadata": {},
   "source": []
  }
 ],
 "metadata": {
  "kernelspec": {
   "display_name": "Python 3",
   "language": "python",
   "name": "python3"
  },
  "language_info": {
   "name": "python",
   "version": "3.11.10"
  }
 },
 "nbformat": 4,
 "nbformat_minor": 5
}
