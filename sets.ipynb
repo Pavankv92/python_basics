{
 "cells": [
  {
   "cell_type": "markdown",
   "id": "c9188d69",
   "metadata": {},
   "source": [
    "### Sets"
   ]
  },
  {
   "cell_type": "markdown",
   "id": "3644069a",
   "metadata": {},
   "source": [
    "* Uses {}\n",
    "* holds any datatype\n",
    "* only unique values!\n",
    "* cannot index!\n",
    "* mutable : add(), remove(), clear(), pop()\n",
    "* shines at comparison \n",
    "  * set_1.union(set_2) -> new set with uniue elements \n",
    "  * set_1.intersection(set_2) -> new set with a common unique elements\n",
    "  * set_1.difference(set_2) -> elements in set_1 but not in set_2"
   ]
  },
  {
   "cell_type": "code",
   "execution_count": 12,
   "id": "c6f98d9f",
   "metadata": {},
   "outputs": [
    {
     "name": "stdout",
     "output_type": "stream",
     "text": [
      "{1, (1, 2, 3), 'hello'}\n"
     ]
    }
   ],
   "source": [
    "test_set = {1, 'hello',(1, 2, 3),1}\n",
    "print(test_set)"
   ]
  },
  {
   "cell_type": "code",
   "execution_count": 13,
   "id": "365f084b",
   "metadata": {},
   "outputs": [
    {
     "name": "stdout",
     "output_type": "stream",
     "text": [
      "{1, (1, 2, 3), 4, 'hello'}\n"
     ]
    }
   ],
   "source": [
    "\n",
    "test_set.add(4)\n",
    "print(test_set)"
   ]
  },
  {
   "cell_type": "code",
   "execution_count": 14,
   "id": "8c4b8bc9",
   "metadata": {},
   "outputs": [
    {
     "name": "stdout",
     "output_type": "stream",
     "text": [
      "{(1, 2, 3), 4, 'hello'}\n"
     ]
    }
   ],
   "source": [
    "test_set.pop()\n",
    "print(test_set)"
   ]
  },
  {
   "cell_type": "code",
   "execution_count": 15,
   "id": "8f05ccea",
   "metadata": {},
   "outputs": [
    {
     "name": "stdout",
     "output_type": "stream",
     "text": [
      "{4, 'hello'}\n"
     ]
    }
   ],
   "source": [
    "test_set.pop()\n",
    "print(test_set)"
   ]
  },
  {
   "cell_type": "code",
   "execution_count": 16,
   "id": "508a4cf9",
   "metadata": {},
   "outputs": [
    {
     "name": "stdout",
     "output_type": "stream",
     "text": [
      "{1, 2, 3, 4, 5}\n"
     ]
    }
   ],
   "source": [
    "set_1 = {1, 2, 3}\n",
    "set_2 = {3, 4, 5}\n",
    "set_3 = set_1.union(set_2)\n",
    "print(set_3)"
   ]
  },
  {
   "cell_type": "code",
   "execution_count": 17,
   "id": "8b8b091b",
   "metadata": {},
   "outputs": [
    {
     "name": "stdout",
     "output_type": "stream",
     "text": [
      "{3}\n"
     ]
    }
   ],
   "source": [
    "set_4 = set_1.intersection(set_2)\n",
    "print(set_4)\n"
   ]
  },
  {
   "cell_type": "code",
   "execution_count": null,
   "id": "1493c6df",
   "metadata": {},
   "outputs": [
    {
     "name": "stdout",
     "output_type": "stream",
     "text": [
      "{1, 2}\n"
     ]
    }
   ],
   "source": [
    "set_5 = set_1.difference(set_2) # elements in set_1 but not in set_2\n",
    "print(set_5)"
   ]
  }
 ],
 "metadata": {
  "kernelspec": {
   "display_name": "Python 3",
   "language": "python",
   "name": "python3"
  },
  "language_info": {
   "codemirror_mode": {
    "name": "ipython",
    "version": 3
   },
   "file_extension": ".py",
   "mimetype": "text/x-python",
   "name": "python",
   "nbconvert_exporter": "python",
   "pygments_lexer": "ipython3",
   "version": "3.11.10"
  }
 },
 "nbformat": 4,
 "nbformat_minor": 5
}
