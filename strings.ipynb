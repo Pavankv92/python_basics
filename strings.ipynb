{
 "cells": [
  {
   "cell_type": "code",
   "execution_count": null,
   "id": "bad69d25",
   "metadata": {},
   "outputs": [],
   "source": [
    "test_string = \"Hello, World!\""
   ]
  },
  {
   "cell_type": "code",
   "execution_count": null,
   "id": "67f9e686",
   "metadata": {},
   "outputs": [
    {
     "name": "stdout",
     "output_type": "stream",
     "text": [
      "['Hello,', 'World!']\n"
     ]
    }
   ],
   "source": [
    "print(test_string.split()) # whitespace"
   ]
  },
  {
   "cell_type": "code",
   "execution_count": 4,
   "id": "a995b46c",
   "metadata": {},
   "outputs": [
    {
     "name": "stdout",
     "output_type": "stream",
     "text": [
      "['Hello', ' World!']\n"
     ]
    }
   ],
   "source": [
    "print(test_string.split(\",\"))"
   ]
  },
  {
   "cell_type": "code",
   "execution_count": 5,
   "id": "82676258",
   "metadata": {},
   "outputs": [
    {
     "name": "stdout",
     "output_type": "stream",
     "text": [
      "['He', '', 'o, Wor', 'd!']\n"
     ]
    }
   ],
   "source": [
    "print(test_string.split('l'))"
   ]
  },
  {
   "cell_type": "code",
   "execution_count": 6,
   "id": "22bdbb6a",
   "metadata": {},
   "outputs": [
    {
     "name": "stdout",
     "output_type": "stream",
     "text": [
      "['H', 'e', 'l', 'l', 'o', ',', ' ', 'W', 'o', 'r', 'l', 'd', '!']\n"
     ]
    }
   ],
   "source": [
    "print(list(test_string)) # list of characters"
   ]
  },
  {
   "cell_type": "markdown",
   "id": "5332347e",
   "metadata": {},
   "source": [
    "### Turn a list/tuple in to string"
   ]
  },
  {
   "cell_type": "code",
   "execution_count": 8,
   "id": "2f7785cd",
   "metadata": {},
   "outputs": [
    {
     "name": "stdout",
     "output_type": "stream",
     "text": [
      "helloworld\n"
     ]
    }
   ],
   "source": [
    "print((''.join(['hello', 'world'])))"
   ]
  },
  {
   "cell_type": "code",
   "execution_count": 9,
   "id": "53c99719",
   "metadata": {},
   "outputs": [
    {
     "name": "stdout",
     "output_type": "stream",
     "text": [
      "hello_world\n"
     ]
    }
   ],
   "source": [
    "print(('_'.join(['hello', 'world'])))"
   ]
  },
  {
   "cell_type": "code",
   "execution_count": 10,
   "id": "9c7dd1ed",
   "metadata": {},
   "outputs": [
    {
     "name": "stdout",
     "output_type": "stream",
     "text": [
      "hello,world\n"
     ]
    }
   ],
   "source": [
    "print((','.join(['hello', 'world'])))\n"
   ]
  },
  {
   "cell_type": "code",
   "execution_count": null,
   "id": "8e8cce20",
   "metadata": {},
   "outputs": [
    {
     "ename": "TypeError",
     "evalue": "sequence item 0: expected str instance, int found",
     "output_type": "error",
     "traceback": [
      "\u001b[31m---------------------------------------------------------------------------\u001b[39m",
      "\u001b[31mTypeError\u001b[39m                                 Traceback (most recent call last)",
      "\u001b[36mCell\u001b[39m\u001b[36m \u001b[39m\u001b[32mIn[11]\u001b[39m\u001b[32m, line 2\u001b[39m\n\u001b[32m      1\u001b[39m test_list = [\u001b[32m1\u001b[39m,\u001b[32m2\u001b[39m,\u001b[32m3\u001b[39m,\u001b[32m4\u001b[39m,\u001b[32m5\u001b[39m]\n\u001b[32m----> \u001b[39m\u001b[32m2\u001b[39m \u001b[38;5;28mprint\u001b[39m((\u001b[33;43m'\u001b[39;49m\u001b[33;43m,\u001b[39;49m\u001b[33;43m'\u001b[39;49m\u001b[43m.\u001b[49m\u001b[43mjoin\u001b[49m\u001b[43m(\u001b[49m\u001b[43mtest_list\u001b[49m\u001b[43m)\u001b[49m))\n",
      "\u001b[31mTypeError\u001b[39m: sequence item 0: expected str instance, int found"
     ]
    }
   ],
   "source": [
    "test_list = [1,2,3,4,5]\n",
    "print((','.join(test_list))) # expects list[str]"
   ]
  },
  {
   "cell_type": "code",
   "execution_count": 13,
   "id": "3111230d",
   "metadata": {},
   "outputs": [
    {
     "name": "stdout",
     "output_type": "stream",
     "text": [
      "[1, 2, 3, 4, 5]\n"
     ]
    }
   ],
   "source": [
    "test_list = [1,2,3,4,5]\n",
    "test_list = str(test_list)\n",
    "print((''.join(test_list)))"
   ]
  },
  {
   "cell_type": "markdown",
   "id": "8d3b6bbd",
   "metadata": {},
   "source": [
    "### strip and replace"
   ]
  },
  {
   "cell_type": "code",
   "execution_count": null,
   "id": "e74e1403",
   "metadata": {},
   "outputs": [
    {
     "name": "stdout",
     "output_type": "stream",
     "text": [
      "12345\n"
     ]
    }
   ],
   "source": [
    "test_list = [1,2,3,4,5] # get 1 2 3 4 5 from this list\n",
    "test_list = str(test_list).strip('[').strip(']').replace(',','')\n",
    "print(test_list)"
   ]
  }
 ],
 "metadata": {
  "kernelspec": {
   "display_name": "Python 3",
   "language": "python",
   "name": "python3"
  },
  "language_info": {
   "codemirror_mode": {
    "name": "ipython",
    "version": 3
   },
   "file_extension": ".py",
   "mimetype": "text/x-python",
   "name": "python",
   "nbconvert_exporter": "python",
   "pygments_lexer": "ipython3",
   "version": "3.11.10"
  }
 },
 "nbformat": 4,
 "nbformat_minor": 5
}
